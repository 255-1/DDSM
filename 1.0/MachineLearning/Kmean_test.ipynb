{
 "cells": [
  {
   "cell_type": "code",
   "execution_count": 74,
   "metadata": {},
   "outputs": [],
   "source": [
    "import numpy as np\n",
    "import math\n",
    "import matplotlib.pyplot as plt\n",
    "import xlrd"
   ]
  },
  {
   "cell_type": "code",
   "execution_count": 75,
   "metadata": {},
   "outputs": [],
   "source": [
    "def load_dataset(file_name):\n",
    "    data = xlrd.open_workbook(file_name)\n",
    "    table = data.sheets()[0]\n",
    "    nrows = table.nrows # 行数\n",
    "    ncols = table.ncols # 列数\n",
    "    datamatrix = np.zeros((nrows-1, ncols-2))\n",
    "    for x in range(1, ncols-1):\n",
    "        cols = table.col_values(x)\n",
    "        cols.remove(cols[0])\n",
    "        cols1 = np.matrix(cols)  # 把list转换为矩阵进行矩阵操作\n",
    "        datamatrix[:, x-1] = cols1 # 把数据进行存储\n",
    "    return np.transpose(datamatrix)"
   ]
  },
  {
   "cell_type": "code",
   "execution_count": 76,
   "metadata": {},
   "outputs": [
    {
     "name": "stdout",
     "output_type": "stream",
     "text": [
      "[[1.48365051e+02 1.49507629e+02 1.49508240e+02 ... 1.70310730e+02\n",
      "  1.70283386e+02 1.51642761e+02]\n",
      " [1.94553676e+01 1.43883495e+01 1.43814924e+01 ... 1.58973204e+01\n",
      "  1.58989562e+01 5.42989591e+00]\n",
      " [5.47541360e-01 5.49905934e-01 8.67773210e-01 ... 6.25374588e-01\n",
      "  8.83968099e-01 8.50978254e-01]\n",
      " ...\n",
      " [8.98193359e-01 9.05517578e-01 1.29150391e-01 ... 9.53857422e-01\n",
      "  1.75292969e-01 1.43066406e-01]\n",
      " [1.38452027e+00 1.34621615e+00 1.35354388e+00 ... 1.34413248e+00\n",
      "  1.33085350e+00 1.29445434e+00]\n",
      " [9.12554462e-01 9.07904299e-01 9.19799805e-01 ... 8.78489323e-01\n",
      "  8.96728516e-01 9.12841797e-01]]\n"
     ]
    }
   ],
   "source": [
    "data_set = load_dataset(r\"D:\\学校\\项目研究进展\\模拟数据.xls\")\n",
    "print(data_set)"
   ]
  },
  {
   "cell_type": "code",
   "execution_count": 77,
   "metadata": {},
   "outputs": [],
   "source": [
    "# 二分K均值聚类的主函数，输入参数为数据集和要分的簇的个数\n",
    "def bi_Kmeans(data_set, k):   \n",
    "    m = data_set.shape[0]   # 得到data_set的行数，即数据集的个数\n",
    "    cluster_assment = np.zeros((m,2)) # 初始化样本点的簇分配矩阵，第一列为簇分配索引，第二列为欧氏距离平方\n",
    "    centroid0 = np.mean(data_set, axis=0)  # 按列计算均值，即找到初始质心\n",
    "    cent_list = [centroid0]\n",
    "    for j in range(m):   # 对于每个样本点\n",
    "        cluster_assment[j,1] = dist_eclud(centroid0, data_set[j,:])**2 # 计算该样本点的误差平方\n",
    "    while (len(cent_list) < k):   # 当已有的簇个数小于k时，迭代执行以下代码\n",
    "        lowestSSE = np.inf     # 初始化误差平方和SSE的最小值\n",
    "\n",
    "        # 找到对哪个簇进行划分可以最大程度降低SSE值\n",
    "        for i in range(len(cent_list)):   # 遍历每个已有的簇\n",
    "            # 得到属于该簇的所有样本点\n",
    "            pts_incurr_cluster = \\\n",
    "            data_set[np.nonzero(list(map(lambda x:x==i, cluster_assment[:,0])))]\n",
    "            # 将该簇的所有样本点通过函数Kmean进行划分(k=2),得到划分后的质心和簇分配矩阵\n",
    "            centroid_mat, split_clust_ass = Kmeans(pts_incurr_cluster, 2)    \n",
    "            sse_split = np.sum(split_clust_ass[:,1])  # 得到划分后的误差平方和\n",
    "            # 得到其他样本点的误差平方和\n",
    "            sse_not_split = \\\n",
    "            np.sum(cluster_assment[np.nonzero(list(map(lambda x:x!=i, cluster_assment[:,0]))),1])\n",
    "            if (sse_split + sse_not_split) < lowestSSE:  # 如果总的误差平方和小于lowestSSE\n",
    "                best_cent_to_split = i                   # 则保存本次划分\n",
    "                best_new_cents = centroid_mat\n",
    "                best_clust_ass = split_clust_ass\n",
    "                lowestSSE = sse_split + sse_not_split\n",
    "        # 对最大程度降低SSE值的簇进行划分\n",
    "\n",
    "        # 将划分后得到的编号为0的结果簇的编号修改为原最大簇编号+1，即len(cent_list)\n",
    "        best_clust_ass[np.nonzero(list(map(lambda x:x==1, best_clust_ass[:,0]))), 0] = len(cent_list)  \n",
    "         # 将划分后得到的编号为1的结果簇的编号修改为被划分的簇的编号\n",
    "        best_clust_ass[np.nonzero(list(map(lambda x:x==0, best_clust_ass[:,0]))), 0] = best_cent_to_split \n",
    "        cent_list[best_cent_to_split] = best_new_cents[0,:] # 更新被划分的簇的质心\n",
    "        cent_list.append(best_new_cents[1,:])  # 添加一个新的簇的质心\n",
    "        cluster_assment[np.nonzero(list(map(lambda x:x==best_cent_to_split, cluster_assment[:,0]))),:] = \\\n",
    "            best_clust_ass  # 将簇分配矩阵中属于被划分的簇的样本点的簇分配进行更新\n",
    "    return np.array(cent_list), cluster_assment"
   ]
  },
  {
   "cell_type": "code",
   "execution_count": 78,
   "metadata": {},
   "outputs": [
    {
     "name": "stdout",
     "output_type": "stream",
     "text": [
      "[[  2.0578576    1.55928113   1.5353981  ...   1.66157848   1.65015098\n",
      "    0.92371896]\n",
      " [148.75863987 149.70539426 149.71909291 ... 170.5334959  170.53615748\n",
      "  151.63131593]]\n",
      "[[1.00000000e+00 4.66306499e+01]\n",
      " [0.00000000e+00 1.30988442e+05]\n",
      " [0.00000000e+00 8.38920132e+02]\n",
      " [0.00000000e+00 1.85969576e+03]\n",
      " [0.00000000e+00 1.84248365e+03]\n",
      " [0.00000000e+00 1.81277974e+03]\n",
      " [0.00000000e+00 1.72210822e+03]\n",
      " [0.00000000e+00 1.72841796e+03]\n",
      " [0.00000000e+00 1.85541564e+03]\n",
      " [0.00000000e+00 1.82532609e+03]\n",
      " [0.00000000e+00 8.36850169e+02]\n",
      " [0.00000000e+00 1.85970725e+03]\n",
      " [0.00000000e+00 1.85638748e+03]\n",
      " [0.00000000e+00 1.82623905e+03]\n",
      " [0.00000000e+00 1.72794031e+03]\n",
      " [0.00000000e+00 1.73273379e+03]\n",
      " [0.00000000e+00 1.84248755e+03]\n",
      " [0.00000000e+00 1.81282308e+03]\n",
      " [1.00000000e+00 2.91441562e+00]\n",
      " [0.00000000e+00 2.31010764e+04]\n",
      " [0.00000000e+00 3.24690891e+02]\n",
      " [0.00000000e+00 4.49972251e+02]\n",
      " [0.00000000e+00 3.06962740e+02]\n",
      " [0.00000000e+00 4.20165817e+02]\n",
      " [0.00000000e+00 1.22541927e+03]\n",
      " [0.00000000e+00 9.61703270e+02]\n",
      " [1.00000000e+00 2.91441562e+00]\n",
      " [0.00000000e+00 2.31010764e+04]\n",
      " [0.00000000e+00 5.34523661e+02]\n",
      " [0.00000000e+00 2.28198670e+02]\n",
      " [0.00000000e+00 5.28983557e+02]\n",
      " [0.00000000e+00 2.12467111e+02]\n",
      " [0.00000000e+00 1.27450598e+03]\n",
      " [0.00000000e+00 1.03582814e+03]\n",
      " [1.00000000e+00 2.91441562e+00]\n",
      " [0.00000000e+00 2.31010764e+04]\n",
      " [0.00000000e+00 3.27556235e+02]\n",
      " [0.00000000e+00 1.81640346e+04]\n",
      " [0.00000000e+00 3.23988731e+02]\n",
      " [0.00000000e+00 1.81448727e+04]\n",
      " [0.00000000e+00 1.44138270e+03]\n",
      " [0.00000000e+00 1.13278929e+03]\n",
      " [1.00000000e+00 2.91441562e+00]\n",
      " [0.00000000e+00 2.31010764e+04]\n",
      " [0.00000000e+00 9.80269717e+02]\n",
      " [0.00000000e+00 5.27354493e+02]\n",
      " [0.00000000e+00 9.63803398e+02]\n",
      " [0.00000000e+00 4.90110542e+02]\n",
      " [0.00000000e+00 1.67638922e+03]\n",
      " [0.00000000e+00 1.59765958e+03]\n",
      " [0.00000000e+00 9.92809522e+02]\n",
      " [0.00000000e+00 1.58529271e+02]\n",
      " [0.00000000e+00 5.71059259e+02]]\n"
     ]
    }
   ],
   "source": [
    "cent_list, cluster_assment = bi_Kmeans(data_set, 2)\n",
    "print(cent_list)\n",
    "print(cluster_assment)"
   ]
  },
  {
   "cell_type": "code",
   "execution_count": null,
   "metadata": {},
   "outputs": [],
   "source": []
  },
  {
   "cell_type": "code",
   "execution_count": null,
   "metadata": {},
   "outputs": [],
   "source": []
  },
  {
   "cell_type": "code",
   "execution_count": null,
   "metadata": {},
   "outputs": [],
   "source": []
  }
 ],
 "metadata": {
  "kernelspec": {
   "display_name": "Python 3",
   "language": "python",
   "name": "python3"
  },
  "language_info": {
   "codemirror_mode": {
    "name": "ipython",
    "version": 3
   },
   "file_extension": ".py",
   "mimetype": "text/x-python",
   "name": "python",
   "nbconvert_exporter": "python",
   "pygments_lexer": "ipython3",
   "version": "3.7.4"
  }
 },
 "nbformat": 4,
 "nbformat_minor": 2
}
