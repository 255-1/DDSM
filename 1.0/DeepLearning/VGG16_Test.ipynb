{
 "cells": [
  {
   "cell_type": "code",
   "execution_count": 1,
   "metadata": {},
   "outputs": [],
   "source": [
    "import tensorflow as tf\n",
    "from Preprocess import label_for_nn\n",
    "from vgg16_model import model"
   ]
  },
  {
   "cell_type": "code",
   "execution_count": 2,
   "metadata": {},
   "outputs": [],
   "source": [
    "benign_path = '/home/user01/Desktop/DDSM/4_benign_Pleo_10_ROI_subpic'#input('良性子图路径')#\n",
    "cancer_path = '/home/user01/Desktop/DDSM/4_cancer_Pleo_10_ROI_subpic'#input('恶性子图路径')#\n",
    "saver_path = '/home/user01/Desktop/DDSM/model/VGG16'#input('模型保存路径')#\n",
    "size = 128\n",
    "tf.reset_default_graph()"
   ]
  },
  {
   "cell_type": "code",
   "execution_count": 3,
   "metadata": {},
   "outputs": [],
   "source": [
    "def get_trainsets_and_testsets(benign_path,cancer_path):\n",
    "    (train_x ,train_y),(test_x,test_y) = label_for_nn(benign_path,cancer_path,scale=0.2,kind='RGB')\n",
    "    train_x = train_x.reshape(train_x.shape[0],size,size,3).astype('float32')/255.0\n",
    "    test_x = test_x.reshape(test_x.shape[0],size,size,3).astype('float32')/255.0\n",
    "    return  test_x ,test_y"
   ]
  },
  {
   "cell_type": "code",
   "execution_count": 4,
   "metadata": {},
   "outputs": [],
   "source": [
    "def conv2d_P(x,W,s):\n",
    "    return tf.nn.conv2d(x,W,strides=[1,s,s,1],padding='SAME')"
   ]
  },
  {
   "cell_type": "code",
   "execution_count": 5,
   "metadata": {},
   "outputs": [],
   "source": [
    "def conv2d(x,W,s):\n",
    "    return tf.nn.conv2d(x,W,strides=[1,s,s,1],padding='VALID')"
   ]
  },
  {
   "cell_type": "code",
   "execution_count": 6,
   "metadata": {},
   "outputs": [],
   "source": [
    "def max_pooling2x2(x):\n",
    "    return tf.nn.max_pool(x,ksize=[1,3,3,1],strides=[1,2,2,1],padding='VALID')"
   ]
  },
  {
   "cell_type": "code",
   "execution_count": 7,
   "metadata": {},
   "outputs": [],
   "source": [
    "def cnn_test():\n",
    "    x = tf.placeholder(tf.float32, [None, 128, 128, 3])\n",
    "    y = tf.placeholder(tf.float32, [None, 2])\n",
    "    keep_prob = tf.placeholder(tf.float32)\n",
    "    y_pre = model(x,keep_prob)\n",
    "    cross_entropy = tf.reduce_mean(-tf.reduce_sum(y * tf.log(y_pre), reduction_indices=[1]))\n",
    "    y_pre_label = tf.argmax(y_pre,1)\n",
    "    y_label = tf.argmax(y,1)\n",
    "    a = tf.add(y_pre_label, 1)\n",
    "    b = tf.add(y_label, 3)\n",
    "    c = tf.multiply(a, b)\n",
    "    tp = tf.reduce_sum(tf.cast(tf.equal(c, 8), tf.float32))\n",
    "    fp = tf.reduce_sum(tf.cast(tf.equal(c, 6), tf.float32))\n",
    "    tn = tf.reduce_sum(tf.cast(tf.equal(c, 3), tf.float32))\n",
    "    fn = tf.reduce_sum(tf.cast(tf.equal(c, 4), tf.float32))\n",
    "    tpr = tp / (tp + fn)\n",
    "    tnr = tn / (tn + fp)\n",
    "    tf.summary.scalar('test_Sensitivity', tpr)\n",
    "    tf.summary.scalar('test_Specificity', tnr)\n",
    "    correct_l1 = tf.equal(y_pre_label, y_label)\n",
    "    accuracy = tf.reduce_mean(tf.cast(correct_l1, tf.float32))\n",
    "    tf.summary.scalar('test_loss', cross_entropy)\n",
    "    tf.summary.scalar('test_accuracy', accuracy)\n",
    "    merged_summary_op = tf.summary.merge_all()\n",
    "    saver = tf.train.Saver()\n",
    "    config = tf.ConfigProto()\n",
    "    config.gpu_options.allow_growth = True\n",
    "    with tf.Session(config=config) as sess:\n",
    "        test_accuracy = 0\n",
    "        writer = tf.summary.FileWriter(saver_path, sess.graph)\n",
    "        saver.restore(sess,saver_path+'/VGG16')\n",
    "        test_accuracy = 0\n",
    "        test_sensitivity = 0\n",
    "        test_specificity = 0\n",
    "        test_loss = 0\n",
    "        for n in range(0,100):\n",
    "            test_x, test_y = get_trainsets_and_testsets(benign_path,cancer_path)\n",
    "            acc,sen,spec,loss,summary = sess.run([accuracy,tpr,tnr,cross_entropy,merged_summary_op],feed_dict={x:test_x,y:test_y,keep_prob:1.0})\n",
    "            test_accuracy += acc\n",
    "            test_sensitivity += sen\n",
    "            test_specificity +=spec\n",
    "            test_loss += loss\n",
    "            print(\"{0:3d} accuracy:{1:>10.9f} loss:{2:>10.9f} specificity:{3:>10.9f} sensitivity:{4:>10.9f}\".format(n,acc,loss,sen,spec))\n",
    "            writer.add_summary(summary=summary, global_step=n)\n",
    "        print(\"accuracy:{0:<6.3f}% loss:{1:<6.3f}% specificity:{2:<6.3f}% sensitivity:{3:<6.3f}%\".format(test_accuracy,test_loss,test_sensitivity,test_specificity))"
   ]
  },
  {
   "cell_type": "code",
   "execution_count": 8,
   "metadata": {},
   "outputs": [
    {
     "name": "stdout",
     "output_type": "stream",
     "text": [
      "INFO:tensorflow:Restoring parameters from /home/user01/Desktop/DDSM/model/VGG16/VGG16\n",
      "  0 accuracy:0.925000012 loss:0.238547966 specificity:0.941176474 sensitivity:0.913043499\n",
      "  1 accuracy:0.948275864 loss:0.149977297 specificity:0.966666639 sensitivity:0.928571403\n",
      "  2 accuracy:0.909090936 loss:0.261186659 specificity:0.956521749 sensitivity:0.875000000\n",
      "  3 accuracy:0.930232584 loss:0.145242274 specificity:1.000000000 sensitivity:0.879999995\n",
      "  4 accuracy:0.975609779 loss:0.113310382 specificity:0.949999988 sensitivity:1.000000000\n",
      "  5 accuracy:0.982758641 loss:0.110036775 specificity:1.000000000 sensitivity:0.965517223\n",
      "  6 accuracy:0.977272749 loss:0.115016453 specificity:1.000000000 sensitivity:0.964285731\n",
      "  7 accuracy:0.918918908 loss:0.225972697 specificity:1.000000000 sensitivity:0.857142866\n",
      "  8 accuracy:0.934782624 loss:0.119132012 specificity:1.000000000 sensitivity:0.875000000\n",
      "  9 accuracy:0.982142866 loss:0.050064713 specificity:1.000000000 sensitivity:0.958333313\n",
      " 10 accuracy:0.932203412 loss:0.190307185 specificity:1.000000000 sensitivity:0.891891897\n",
      " 11 accuracy:0.978260875 loss:0.091702193 specificity:1.000000000 sensitivity:0.947368443\n",
      " 12 accuracy:0.966101706 loss:0.095590323 specificity:1.000000000 sensitivity:0.933333337\n",
      " 13 accuracy:1.000000000 loss:0.032551602 specificity:1.000000000 sensitivity:1.000000000\n",
      " 14 accuracy:0.981481493 loss:0.124104388 specificity:1.000000000 sensitivity:0.956521749\n",
      " 15 accuracy:0.933333337 loss:0.226398885 specificity:1.000000000 sensitivity:0.888888896\n",
      " 16 accuracy:0.961538434 loss:0.153941572 specificity:1.000000000 sensitivity:0.913043499\n",
      " 17 accuracy:0.978260875 loss:0.114936784 specificity:0.952380955 sensitivity:1.000000000\n",
      " 18 accuracy:0.925925910 loss:0.213044763 specificity:1.000000000 sensitivity:0.885714293\n",
      " 19 accuracy:0.984615386 loss:0.060036525 specificity:1.000000000 sensitivity:0.969696999\n",
      " 20 accuracy:0.976744175 loss:0.107850105 specificity:1.000000000 sensitivity:0.949999988\n",
      " 21 accuracy:0.942307711 loss:0.239148915 specificity:0.923076928 sensitivity:0.961538434\n",
      " 22 accuracy:0.972972989 loss:0.108624019 specificity:0.937500000 sensitivity:1.000000000\n",
      " 23 accuracy:0.981132090 loss:0.115082532 specificity:0.965517223 sensitivity:1.000000000\n",
      " 24 accuracy:1.000000000 loss:0.067899503 specificity:1.000000000 sensitivity:1.000000000\n",
      " 25 accuracy:0.964285731 loss:0.155122846 specificity:0.920000017 sensitivity:1.000000000\n",
      " 26 accuracy:0.862745106 loss:0.359443188 specificity:0.899999976 sensitivity:0.838709652\n",
      " 27 accuracy:0.949152529 loss:0.193890423 specificity:0.958333313 sensitivity:0.942857146\n",
      " 28 accuracy:0.930232584 loss:0.154985607 specificity:1.000000000 sensitivity:0.884615362\n",
      " 29 accuracy:0.911111116 loss:0.195639506 specificity:0.954545438 sensitivity:0.869565189\n",
      " 30 accuracy:0.934426248 loss:0.215782702 specificity:0.966666639 sensitivity:0.903225780\n",
      " 31 accuracy:0.897959173 loss:0.270985991 specificity:0.857142866 sensitivity:0.928571403\n",
      " 32 accuracy:0.966666639 loss:0.143633917 specificity:0.969696999 sensitivity:0.962962985\n",
      " 33 accuracy:0.960784316 loss:0.145638555 specificity:1.000000000 sensitivity:0.913043499\n",
      " 34 accuracy:0.951612890 loss:0.190925434 specificity:1.000000000 sensitivity:0.911764681\n",
      " 35 accuracy:0.911111116 loss:0.256531417 specificity:0.952380955 sensitivity:0.875000000\n",
      " 36 accuracy:0.964285731 loss:0.113926992 specificity:1.000000000 sensitivity:0.923076928\n",
      " 37 accuracy:0.868421078 loss:0.414439410 specificity:0.899999976 sensitivity:0.833333313\n",
      " 38 accuracy:0.927272737 loss:0.111032322 specificity:1.000000000 sensitivity:0.851851881\n",
      " 39 accuracy:0.935483873 loss:0.178619310 specificity:0.931034505 sensitivity:0.939393938\n",
      " 40 accuracy:0.898305058 loss:0.242929205 specificity:0.928571403 sensitivity:0.870967746\n",
      " 41 accuracy:0.946428597 loss:0.193609223 specificity:0.962962985 sensitivity:0.931034505\n",
      " 42 accuracy:0.939999998 loss:0.163355470 specificity:1.000000000 sensitivity:0.869565189\n",
      " 43 accuracy:0.916666687 loss:0.250244528 specificity:0.958333313 sensitivity:0.888888896\n",
      " 44 accuracy:0.931034505 loss:0.211483359 specificity:0.967741907 sensitivity:0.888888896\n",
      " 45 accuracy:0.972222209 loss:0.147143155 specificity:1.000000000 sensitivity:0.956521749\n",
      " 46 accuracy:0.939999998 loss:0.132582948 specificity:0.964285731 sensitivity:0.909090936\n",
      " 47 accuracy:0.947368443 loss:0.089494765 specificity:1.000000000 sensitivity:0.888888896\n",
      " 48 accuracy:0.872340441 loss:0.289317340 specificity:1.000000000 sensitivity:0.769230783\n",
      " 49 accuracy:0.980000019 loss:0.111116976 specificity:1.000000000 sensitivity:0.952380955\n",
      " 50 accuracy:0.945454538 loss:0.208898574 specificity:0.965517223 sensitivity:0.923076928\n",
      " 51 accuracy:1.000000000 loss:0.039580405 specificity:1.000000000 sensitivity:1.000000000\n",
      " 52 accuracy:0.955555558 loss:0.215016380 specificity:0.958333313 sensitivity:0.952380955\n",
      " 53 accuracy:0.905660391 loss:0.262641549 specificity:0.958333313 sensitivity:0.862068951\n",
      " 54 accuracy:0.964912295 loss:0.101306930 specificity:0.972222209 sensitivity:0.952380955\n",
      " 55 accuracy:0.942307711 loss:0.237431973 specificity:0.923076928 sensitivity:0.961538434\n",
      " 56 accuracy:0.920000017 loss:0.270057350 specificity:0.949999988 sensitivity:0.899999976\n",
      " 57 accuracy:0.962264180 loss:0.153988853 specificity:0.956521749 sensitivity:0.966666639\n",
      " 58 accuracy:0.975609779 loss:0.073691562 specificity:1.000000000 sensitivity:0.954545438\n",
      " 59 accuracy:0.965517223 loss:0.085514955 specificity:1.000000000 sensitivity:0.923076928\n",
      " 60 accuracy:0.925000012 loss:0.194965094 specificity:0.928571403 sensitivity:0.923076928\n",
      " 61 accuracy:0.947368443 loss:0.110376857 specificity:0.966666639 sensitivity:0.925925910\n",
      " 62 accuracy:0.938775539 loss:0.170615762 specificity:0.961538434 sensitivity:0.913043499\n",
      " 63 accuracy:0.966101706 loss:0.136503965 specificity:0.968750000 sensitivity:0.962962985\n",
      " 64 accuracy:0.960784316 loss:0.183354333 specificity:1.000000000 sensitivity:0.920000017\n",
      " 65 accuracy:0.933333337 loss:0.239109859 specificity:0.931034505 sensitivity:0.935483873\n",
      " 66 accuracy:0.893617034 loss:0.278416097 specificity:0.964285731 sensitivity:0.789473712\n",
      " 67 accuracy:0.981818199 loss:0.084051684 specificity:1.000000000 sensitivity:0.959999979\n",
      " 68 accuracy:0.937500000 loss:0.185723782 specificity:0.941176474 sensitivity:0.933333337\n",
      " 69 accuracy:0.877551019 loss:0.366318464 specificity:0.875000000 sensitivity:0.879999995\n",
      " 70 accuracy:0.907407403 loss:0.220515147 specificity:1.000000000 sensitivity:0.857142866\n",
      " 71 accuracy:1.000000000 loss:0.035318036 specificity:1.000000000 sensitivity:1.000000000\n",
      " 72 accuracy:0.935483873 loss:0.257926047 specificity:0.937500000 sensitivity:0.933333337\n",
      " 73 accuracy:0.973684192 loss:0.137339592 specificity:1.000000000 sensitivity:0.949999988\n",
      " 74 accuracy:0.895833313 loss:0.328612685 specificity:0.947368443 sensitivity:0.862068951\n",
      " 75 accuracy:0.962264180 loss:0.072618686 specificity:1.000000000 sensitivity:0.928571403\n",
      " 76 accuracy:0.961538434 loss:0.180231571 specificity:0.956521749 sensitivity:0.965517223\n",
      " 77 accuracy:0.925925910 loss:0.208161831 specificity:0.958333313 sensitivity:0.899999976\n",
      " 78 accuracy:0.924528301 loss:0.250896752 specificity:0.954545438 sensitivity:0.903225780\n",
      " 79 accuracy:0.941176474 loss:0.223769918 specificity:1.000000000 sensitivity:0.899999976\n",
      " 80 accuracy:0.981481493 loss:0.075696245 specificity:1.000000000 sensitivity:0.966666639\n",
      " 81 accuracy:0.981818199 loss:0.065991551 specificity:1.000000000 sensitivity:0.959999979\n",
      " 82 accuracy:0.962264180 loss:0.112812646 specificity:1.000000000 sensitivity:0.933333337\n",
      " 83 accuracy:0.962962985 loss:0.052573487 specificity:1.000000000 sensitivity:0.933333337\n",
      " 84 accuracy:0.982142866 loss:0.052853178 specificity:1.000000000 sensitivity:0.959999979\n",
      " 85 accuracy:0.961538434 loss:0.084633701 specificity:1.000000000 sensitivity:0.928571403\n",
      " 86 accuracy:0.972222209 loss:0.039291356 specificity:1.000000000 sensitivity:0.949999988\n",
      " 87 accuracy:0.928571403 loss:0.282478392 specificity:0.933333337 sensitivity:0.923076928\n",
      " 88 accuracy:1.000000000 loss:0.014400803 specificity:1.000000000 sensitivity:1.000000000\n",
      " 89 accuracy:0.981132090 loss:0.062980033 specificity:1.000000000 sensitivity:0.966666639\n",
      " 90 accuracy:0.980769217 loss:0.082611188 specificity:1.000000000 sensitivity:0.971428573\n"
     ]
    },
    {
     "name": "stdout",
     "output_type": "stream",
     "text": [
      " 91 accuracy:0.956521749 loss:0.129153088 specificity:1.000000000 sensitivity:0.923076928\n",
      " 92 accuracy:0.960784316 loss:0.065299653 specificity:1.000000000 sensitivity:0.913043499\n",
      " 93 accuracy:0.925373137 loss:0.185312390 specificity:1.000000000 sensitivity:0.843750000\n",
      " 94 accuracy:0.888888896 loss:0.280280471 specificity:0.885714293 sensitivity:0.892857134\n",
      " 95 accuracy:0.979166687 loss:0.053746019 specificity:1.000000000 sensitivity:0.966666639\n",
      " 96 accuracy:0.942307711 loss:0.158931911 specificity:0.954545438 sensitivity:0.933333337\n",
      " 97 accuracy:0.961538434 loss:0.105404302 specificity:1.000000000 sensitivity:0.925925910\n",
      " 98 accuracy:0.961538434 loss:0.082563512 specificity:1.000000000 sensitivity:0.933333337\n",
      " 99 accuracy:1.000000000 loss:0.059319884 specificity:1.000000000 sensitivity:1.000000000\n",
      "accuracy:94.877% loss:15.961% specificity:97.433% sensitivity:92.582%\n"
     ]
    }
   ],
   "source": [
    "cnn_test()"
   ]
  },
  {
   "cell_type": "code",
   "execution_count": null,
   "metadata": {},
   "outputs": [],
   "source": []
  }
 ],
 "metadata": {
  "kernelspec": {
   "display_name": "Python 2",
   "language": "python",
   "name": "python2"
  },
  "language_info": {
   "codemirror_mode": {
    "name": "ipython",
    "version": 2
   },
   "file_extension": ".py",
   "mimetype": "text/x-python",
   "name": "python",
   "nbconvert_exporter": "python",
   "pygments_lexer": "ipython2",
   "version": "2.7.16"
  }
 },
 "nbformat": 4,
 "nbformat_minor": 2
}
