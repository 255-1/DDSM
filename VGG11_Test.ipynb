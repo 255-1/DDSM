{
 "cells": [
  {
   "cell_type": "code",
   "execution_count": 1,
   "metadata": {},
   "outputs": [],
   "source": [
    "import tensorflow as tf\n",
    "from Preprocess import label_for_nn\n",
    "from vgg11_model import model"
   ]
  },
  {
   "cell_type": "code",
   "execution_count": 2,
   "metadata": {},
   "outputs": [],
   "source": [
    "benign_path = '/home/user01/Desktop/DDSM/4_benign_Pleo_10_ROI_subpic'#input('良性子图路径')#\n",
    "cancer_path = '/home/user01/Desktop/DDSM/4_cancer_Pleo_10_ROI_subpic'#input('恶性子图路径')#\n",
    "saver_path = '/home/user01/Desktop/DDSM/model/VGG11'#nput('模型保存路径')#\n",
    "size = 128\n",
    "tf.reset_default_graph()"
   ]
  },
  {
   "cell_type": "code",
   "execution_count": 3,
   "metadata": {},
   "outputs": [],
   "source": [
    "def get_trainsets_and_testsets(benign_path,cancer_path):\n",
    "    (train_x ,train_y),(test_x,test_y) = label_for_nn(benign_path,cancer_path,scale=0.2,kind='RGB')\n",
    "    train_x = train_x.reshape(train_x.shape[0],size,size,3).astype('float32')/255.0\n",
    "    test_x = test_x.reshape(test_x.shape[0],size,size,3).astype('float32')/255.0\n",
    "    return  test_x ,test_y"
   ]
  },
  {
   "cell_type": "code",
   "execution_count": 4,
   "metadata": {},
   "outputs": [],
   "source": [
    "def conv2d_P(x,W,s):\n",
    "    return tf.nn.conv2d(x,W,strides=[1,s,s,1],padding='SAME')"
   ]
  },
  {
   "cell_type": "code",
   "execution_count": 5,
   "metadata": {},
   "outputs": [],
   "source": [
    "def conv2d(x,W,s):\n",
    "    return tf.nn.conv2d(x,W,strides=[1,s,s,1],padding='VALID')"
   ]
  },
  {
   "cell_type": "code",
   "execution_count": 6,
   "metadata": {},
   "outputs": [],
   "source": [
    "def max_pooling2x2(x):\n",
    "    return tf.nn.max_pool(x,ksize=[1,3,3,1],strides=[1,2,2,1],padding='VALID')"
   ]
  },
  {
   "cell_type": "code",
   "execution_count": 7,
   "metadata": {},
   "outputs": [],
   "source": [
    "def cnn_test():\n",
    "    x = tf.placeholder(tf.float32, [None, 128, 128, 3])\n",
    "    y = tf.placeholder(tf.float32, [None, 2])\n",
    "    keep_prob = tf.placeholder(tf.float32)\n",
    "    y_pre = model(x,keep_prob)\n",
    "    cross_entropy = tf.reduce_mean(-tf.reduce_sum(y * tf.log(y_pre), reduction_indices=[1]))\n",
    "    y_pre_label = tf.argmax(y_pre,1)\n",
    "    y_label = tf.argmax(y,1)\n",
    "    a = tf.add(y_pre_label, 1)\n",
    "    b = tf.add(y_label, 3)\n",
    "    c = tf.multiply(a, b)\n",
    "    tp = tf.reduce_sum(tf.cast(tf.equal(c, 8), tf.float32))\n",
    "    fp = tf.reduce_sum(tf.cast(tf.equal(c, 6), tf.float32))\n",
    "    tn = tf.reduce_sum(tf.cast(tf.equal(c, 3), tf.float32))\n",
    "    fn = tf.reduce_sum(tf.cast(tf.equal(c, 4), tf.float32))\n",
    "    tpr = tp / (tp + fn)\n",
    "    tnr = tn / (tn + fp)\n",
    "    tf.summary.scalar('test_Sensitivity', tpr)\n",
    "    tf.summary.scalar('test_Specificity', tnr)\n",
    "    correct_l1 = tf.equal(y_pre_label, y_label)\n",
    "    accuracy = tf.reduce_mean(tf.cast(correct_l1, tf.float32))\n",
    "    tf.summary.scalar('test_loss', cross_entropy)\n",
    "    tf.summary.scalar('test_accuracy', accuracy)\n",
    "    merged_summary_op = tf.summary.merge_all()\n",
    "    saver = tf.train.Saver()\n",
    "    config = tf.ConfigProto()\n",
    "    config.gpu_options.allow_growth = True\n",
    "    with tf.Session(config=config) as sess:\n",
    "        test_accuracy = 0\n",
    "        writer = tf.summary.FileWriter(saver_path, sess.graph)\n",
    "        saver.restore(sess,saver_path+'/VGG11')\n",
    "        test_accuracy = 0\n",
    "        test_sensitivity = 0\n",
    "        test_specificity = 0\n",
    "        test_loss = 0\n",
    "        for n in range(0,100):\n",
    "            test_x, test_y = get_trainsets_and_testsets(benign_path,cancer_path)\n",
    "            acc,sen,spec,loss,summary = sess.run([accuracy,tpr,tnr,cross_entropy,merged_summary_op],feed_dict={x:test_x,y:test_y,keep_prob:1.0})\n",
    "            test_accuracy += acc\n",
    "            test_sensitivity += sen\n",
    "            test_specificity +=spec\n",
    "            test_loss += loss\n",
    "            print(\"{0:3d} accuracy:{1:>10.9f} loss:{2:>10.9f} specificity:{3:>10.9f} sensitivity:{4:>10.9f}\".format(n,acc,loss,sen,spec))\n",
    "            writer.add_summary(summary=summary, global_step=n)\n",
    "        print(\"accuracy:{0:<6.3f}% loss:{1:<6.3f}% specificity:{2:<6.3f}% sensitivity:{3:<6.3f}%\".format(test_accuracy,test_loss,test_sensitivity,test_specificity))"
   ]
  },
  {
   "cell_type": "code",
   "execution_count": 8,
   "metadata": {},
   "outputs": [
    {
     "name": "stdout",
     "output_type": "stream",
     "text": [
      "INFO:tensorflow:Restoring parameters from /home/user01/Desktop/DDSM/model/VGG11/VGG11\n",
      "  0 accuracy:0.862068951 loss:0.310820669 specificity:0.888888896 sensitivity:0.838709652\n",
      "  1 accuracy:0.833333313 loss:0.422951519 specificity:0.937500000 sensitivity:0.769230783\n",
      "  2 accuracy:0.939999998 loss:0.178974345 specificity:1.000000000 sensitivity:0.896551728\n",
      "  3 accuracy:0.780487776 loss:0.452377141 specificity:0.937500000 sensitivity:0.680000007\n",
      "  4 accuracy:0.909090936 loss:0.239848197 specificity:1.000000000 sensitivity:0.833333313\n",
      "  5 accuracy:0.787234068 loss:0.376538754 specificity:0.916666687 sensitivity:0.652173936\n",
      "  6 accuracy:0.844827592 loss:0.394608915 specificity:0.968750000 sensitivity:0.692307711\n",
      "  7 accuracy:0.875000000 loss:0.313325316 specificity:0.933333337 sensitivity:0.807692289\n",
      "  8 accuracy:0.906976759 loss:0.209082067 specificity:1.000000000 sensitivity:0.818181813\n",
      "  9 accuracy:0.869565189 loss:0.284257144 specificity:0.959999979 sensitivity:0.761904776\n",
      " 10 accuracy:0.787234068 loss:0.452755392 specificity:0.850000024 sensitivity:0.740740716\n",
      " 11 accuracy:0.851063848 loss:0.309267402 specificity:0.875000000 sensitivity:0.826086938\n",
      " 12 accuracy:0.943396211 loss:0.174672410 specificity:0.956521749 sensitivity:0.933333337\n",
      " 13 accuracy:0.875000000 loss:0.300915331 specificity:0.958333313 sensitivity:0.812500000\n",
      " 14 accuracy:0.814814806 loss:0.465941280 specificity:0.965517223 sensitivity:0.639999986\n",
      " 15 accuracy:0.899999976 loss:0.213922530 specificity:0.959999979 sensitivity:0.800000012\n",
      " 16 accuracy:0.924528301 loss:0.165243521 specificity:1.000000000 sensitivity:0.846153855\n",
      " 17 accuracy:0.932203412 loss:0.173691750 specificity:0.966666639 sensitivity:0.896551728\n",
      " 18 accuracy:0.927272737 loss:0.198236510 specificity:0.959999979 sensitivity:0.899999976\n",
      " 19 accuracy:0.836734712 loss:0.350160182 specificity:0.958333313 sensitivity:0.720000029\n",
      " 20 accuracy:0.913043499 loss:0.168149278 specificity:1.000000000 sensitivity:0.862068951\n",
      " 21 accuracy:0.851851881 loss:0.310086787 specificity:0.923076928 sensitivity:0.785714269\n",
      " 22 accuracy:0.910714269 loss:0.191815376 specificity:0.969696999 sensitivity:0.826086938\n",
      " 23 accuracy:0.878048778 loss:0.298819959 specificity:0.866666675 sensitivity:0.884615362\n",
      " 24 accuracy:0.899999976 loss:0.274915457 specificity:1.000000000 sensitivity:0.821428597\n",
      " 25 accuracy:0.914893627 loss:0.205552146 specificity:0.947368443 sensitivity:0.892857134\n",
      " 26 accuracy:0.914893627 loss:0.164626628 specificity:0.966666639 sensitivity:0.823529422\n",
      " 27 accuracy:0.933333337 loss:0.183203951 specificity:1.000000000 sensitivity:0.863636374\n",
      " 28 accuracy:0.851851881 loss:0.235426053 specificity:0.896551728 sensitivity:0.800000012\n",
      " 29 accuracy:0.875000000 loss:0.367927670 specificity:1.000000000 sensitivity:0.759999990\n",
      " 30 accuracy:0.882352948 loss:0.321688533 specificity:0.954545438 sensitivity:0.827586234\n",
      " 31 accuracy:0.924528301 loss:0.242643327 specificity:0.968750000 sensitivity:0.857142866\n",
      " 32 accuracy:0.944444418 loss:0.100034386 specificity:1.000000000 sensitivity:0.875000000\n",
      " 33 accuracy:0.914893627 loss:0.260484219 specificity:1.000000000 sensitivity:0.839999974\n",
      " 34 accuracy:0.833333313 loss:0.327583283 specificity:0.882352948 sensitivity:0.769230783\n",
      " 35 accuracy:0.880952358 loss:0.220025927 specificity:0.913043499 sensitivity:0.842105269\n",
      " 36 accuracy:0.877192974 loss:0.296145082 specificity:1.000000000 sensitivity:0.794117630\n",
      " 37 accuracy:0.870370388 loss:0.308932930 specificity:0.928571403 sensitivity:0.807692289\n",
      " 38 accuracy:0.888888896 loss:0.273096740 specificity:1.000000000 sensitivity:0.793103456\n",
      " 39 accuracy:0.938775539 loss:0.198233560 specificity:1.000000000 sensitivity:0.842105269\n",
      " 40 accuracy:0.854545474 loss:0.277877182 specificity:0.911764681 sensitivity:0.761904776\n",
      " 41 accuracy:0.857142866 loss:0.345417649 specificity:0.906250000 sensitivity:0.806451619\n",
      " 42 accuracy:0.956521749 loss:0.201150611 specificity:1.000000000 sensitivity:0.896551728\n",
      " 43 accuracy:0.818181813 loss:0.315626264 specificity:0.857142866 sensitivity:0.782608688\n",
      " 44 accuracy:0.875000000 loss:0.269089371 specificity:1.000000000 sensitivity:0.794117630\n",
      " 45 accuracy:0.881355941 loss:0.255750060 specificity:0.916666687 sensitivity:0.857142866\n",
      " 46 accuracy:0.929824591 loss:0.245492086 specificity:0.968750000 sensitivity:0.879999995\n",
      " 47 accuracy:0.920000017 loss:0.200439543 specificity:1.000000000 sensitivity:0.800000012\n",
      " 48 accuracy:0.827586234 loss:0.406982988 specificity:1.000000000 sensitivity:0.729729712\n",
      " 49 accuracy:0.880952358 loss:0.335127443 specificity:0.958333313 sensitivity:0.777777791\n",
      " 50 accuracy:0.875000000 loss:0.275256962 specificity:0.961538434 sensitivity:0.772727251\n",
      " 51 accuracy:0.866666675 loss:0.359875411 specificity:0.931034505 sensitivity:0.806451619\n",
      " 52 accuracy:0.839999974 loss:0.375645190 specificity:0.958333313 sensitivity:0.730769217\n",
      " 53 accuracy:0.931034505 loss:0.229011714 specificity:1.000000000 sensitivity:0.857142866\n",
      " 54 accuracy:0.930232584 loss:0.238629580 specificity:0.947368443 sensitivity:0.916666687\n",
      " 55 accuracy:0.909090936 loss:0.228264451 specificity:1.000000000 sensitivity:0.791666687\n",
      " 56 accuracy:0.890909076 loss:0.278532863 specificity:0.925925910 sensitivity:0.857142866\n",
      " 57 accuracy:0.870370388 loss:0.287622869 specificity:1.000000000 sensitivity:0.695652187\n",
      " 58 accuracy:0.947368443 loss:0.175847709 specificity:1.000000000 sensitivity:0.899999976\n",
      " 59 accuracy:0.782608688 loss:0.355487615 specificity:0.869565189 sensitivity:0.695652187\n",
      " 60 accuracy:0.901639342 loss:0.292960197 specificity:1.000000000 sensitivity:0.806451619\n",
      " 61 accuracy:0.939999998 loss:0.191245005 specificity:1.000000000 sensitivity:0.879999995\n",
      " 62 accuracy:0.878048778 loss:0.278260887 specificity:1.000000000 sensitivity:0.761904776\n",
      " 63 accuracy:0.942307711 loss:0.224033862 specificity:0.962962985 sensitivity:0.920000017\n",
      " 64 accuracy:0.872727275 loss:0.340587050 specificity:0.958333313 sensitivity:0.806451619\n",
      " 65 accuracy:0.901960790 loss:0.253397107 specificity:0.958333313 sensitivity:0.851851881\n",
      " 66 accuracy:0.883720934 loss:0.317372531 specificity:0.947368443 sensitivity:0.833333313\n",
      " 67 accuracy:0.891891897 loss:0.162174374 specificity:1.000000000 sensitivity:0.714285731\n",
      " 68 accuracy:0.824999988 loss:0.381052136 specificity:0.933333337 sensitivity:0.759999990\n",
      " 69 accuracy:0.833333313 loss:0.255643338 specificity:0.916666687 sensitivity:0.750000000\n",
      " 70 accuracy:0.921568632 loss:0.197214574 specificity:0.964285731 sensitivity:0.869565189\n",
      " 71 accuracy:0.735294104 loss:0.506413698 specificity:0.875000000 sensitivity:0.611111104\n",
      " 72 accuracy:0.895833313 loss:0.316276044 specificity:0.954545438 sensitivity:0.846153855\n",
      " 73 accuracy:0.886792481 loss:0.305801570 specificity:0.916666687 sensitivity:0.862068951\n",
      " 74 accuracy:0.833333313 loss:0.357605815 specificity:0.896551728 sensitivity:0.774193525\n",
      " 75 accuracy:0.920634925 loss:0.209630832 specificity:0.931034505 sensitivity:0.911764681\n",
      " 76 accuracy:0.850000024 loss:0.238920778 specificity:0.959999979 sensitivity:0.666666687\n",
      " 77 accuracy:0.910714269 loss:0.192655072 specificity:0.967741907 sensitivity:0.839999974\n",
      " 78 accuracy:0.844444454 loss:0.338004172 specificity:1.000000000 sensitivity:0.681818187\n",
      " 79 accuracy:0.884615362 loss:0.196735770 specificity:0.964285731 sensitivity:0.791666687\n",
      " 80 accuracy:0.854166687 loss:0.374720901 specificity:0.913043499 sensitivity:0.800000012\n",
      " 81 accuracy:0.849056602 loss:0.280092299 specificity:0.913043499 sensitivity:0.800000012\n",
      " 82 accuracy:0.946428597 loss:0.293240279 specificity:0.961538434 sensitivity:0.933333337\n",
      " 83 accuracy:0.866666675 loss:0.306393772 specificity:1.000000000 sensitivity:0.714285731\n",
      " 84 accuracy:0.844827592 loss:0.313026935 specificity:0.959999979 sensitivity:0.757575750\n",
      " 85 accuracy:0.951219499 loss:0.184892833 specificity:1.000000000 sensitivity:0.888888896\n",
      " 86 accuracy:0.914893627 loss:0.219985172 specificity:0.959999979 sensitivity:0.863636374\n",
      " 87 accuracy:0.928571403 loss:0.218879148 specificity:0.967741907 sensitivity:0.879999995\n",
      " 88 accuracy:0.829787254 loss:0.333488256 specificity:1.000000000 sensitivity:0.666666687\n",
      " 89 accuracy:0.907407403 loss:0.215274885 specificity:1.000000000 sensitivity:0.827586234\n",
      " 90 accuracy:0.864864886 loss:0.374019742 specificity:1.000000000 sensitivity:0.736842096\n"
     ]
    },
    {
     "name": "stdout",
     "output_type": "stream",
     "text": [
      " 91 accuracy:0.823529422 loss:0.463499367 specificity:0.954545438 sensitivity:0.724137902\n",
      " 92 accuracy:0.943396211 loss:0.128518969 specificity:0.962962985 sensitivity:0.923076928\n",
      " 93 accuracy:0.980769217 loss:0.099281944 specificity:0.958333313 sensitivity:1.000000000\n",
      " 94 accuracy:0.893617034 loss:0.348284751 specificity:1.000000000 sensitivity:0.821428597\n",
      " 95 accuracy:0.862745106 loss:0.259926677 specificity:0.962962985 sensitivity:0.750000000\n",
      " 96 accuracy:0.842105269 loss:0.406601220 specificity:0.937500000 sensitivity:0.720000029\n",
      " 97 accuracy:0.862745106 loss:0.271367759 specificity:0.925925910 sensitivity:0.791666687\n",
      " 98 accuracy:0.823529422 loss:0.441704810 specificity:0.875000000 sensitivity:0.777777791\n",
      " 99 accuracy:0.980392158 loss:0.133507609 specificity:1.000000000 sensitivity:0.956521749\n",
      "accuracy:88.269% loss:27.817% specificity:95.683% sensitivity:80.816%\n"
     ]
    }
   ],
   "source": [
    "cnn_test()"
   ]
  },
  {
   "cell_type": "code",
   "execution_count": null,
   "metadata": {},
   "outputs": [],
   "source": []
  }
 ],
 "metadata": {
  "kernelspec": {
   "display_name": "Python 2",
   "language": "python",
   "name": "python2"
  },
  "language_info": {
   "codemirror_mode": {
    "name": "ipython",
    "version": 2
   },
   "file_extension": ".py",
   "mimetype": "text/x-python",
   "name": "python",
   "nbconvert_exporter": "python",
   "pygments_lexer": "ipython2",
   "version": "2.7.16"
  }
 },
 "nbformat": 4,
 "nbformat_minor": 2
}
