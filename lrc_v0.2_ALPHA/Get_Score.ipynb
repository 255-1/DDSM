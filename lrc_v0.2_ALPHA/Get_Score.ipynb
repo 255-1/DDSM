{
 "cells": [
  {
   "cell_type": "code",
   "execution_count": 2,
   "metadata": {
    "ExecuteTime": {
     "end_time": "2019-10-27T08:20:46.617617Z",
     "start_time": "2019-10-27T08:20:28.047028Z"
    },
    "collapsed": true
   },
   "outputs": [],
   "source": [
    "import pandas as pd\n",
    "import numpy as np\n",
    "import matplotlib.pyplot as plt\n",
    "from sklearn.preprocessing import StandardScaler"
   ]
  },
  {
   "cell_type": "code",
   "execution_count": 37,
   "metadata": {
    "ExecuteTime": {
     "end_time": "2019-10-27T08:31:40.827724Z",
     "start_time": "2019-10-27T08:31:40.813762Z"
    }
   },
   "outputs": [],
   "source": [
    "def get_mean_var(df):\n",
    "    total_l=list()\n",
    "    for i in np.arange(len(df)):\n",
    "        l=0\n",
    "        for j in np.arange(len(df.iloc[0]-1)):\n",
    "            l+=df.iloc[i,j]**2\n",
    "        l=np.sqrt(l)\n",
    "        total_l.append(l)\n",
    "        \n",
    "    avg_mean=np.mean(total_l)\n",
    "    avg_var=np.var(total_l)\n",
    "    \n",
    "    return avg_mean,avg_var"
   ]
  },
  {
   "cell_type": "code",
   "execution_count": 181,
   "metadata": {
    "ExecuteTime": {
     "end_time": "2019-10-27T09:07:56.938176Z",
     "start_time": "2019-10-27T09:07:56.878340Z"
    },
    "collapsed": true
   },
   "outputs": [],
   "source": [
    "def get_score(file):\n",
    "    data=pd.read_excel(file)\n",
    "    y=data.iloc[:,-1]\n",
    "    \n",
    "    scaler=StandardScaler()\n",
    "    X=scaler.fit_transform(data.iloc[:,1:-1].astype(np.float64))\n",
    "    X=pd.DataFrame(X)\n",
    "    \n",
    "    scaler_data=pd.concat([X,y],axis=1)\n",
    "    \n",
    "    df_0=scaler_data.loc[scaler_data[\"分类\"]==0]\n",
    "    df_1=scaler_data.loc[scaler_data[\"分类\"]==1]\n",
    "    df_2=scaler_data.loc[scaler_data[\"分类\"]==2]\n",
    "    \n",
    "    avg_mean=np.array([])\n",
    "    avg_var=np.array([])\n",
    "    labels=[df_0,df_1]\n",
    "\n",
    "    for label in labels:\n",
    "        mean,var=get_mean_var(label)\n",
    "        \n",
    "        avg_mean=np.append(avg_mean,mean)\n",
    "        avg_var=np.append(avg_var,var)\n",
    "    \n",
    "    score=avg_mean/avg_var\n",
    "    \n",
    "    return score"
   ]
  },
  {
   "cell_type": "code",
   "execution_count": 182,
   "metadata": {
    "ExecuteTime": {
     "end_time": "2019-10-27T09:07:57.745035Z",
     "start_time": "2019-10-27T09:07:57.354063Z"
    }
   },
   "outputs": [
    {
     "data": {
      "text/plain": [
       "array([1.12125056, 2.86058141])"
      ]
     },
     "execution_count": 182,
     "metadata": {},
     "output_type": "execute_result"
    }
   ],
   "source": [
    "get_score(\"result_01.xls\")"
   ]
  }
 ],
 "metadata": {
  "kernelspec": {
   "display_name": "Python 3",
   "language": "python",
   "name": "python3"
  },
  "language_info": {
   "codemirror_mode": {
    "name": "ipython",
    "version": 3
   },
   "file_extension": ".py",
   "mimetype": "text/x-python",
   "name": "python",
   "nbconvert_exporter": "python",
   "pygments_lexer": "ipython3",
   "version": "3.6.9"
  },
  "toc": {
   "base_numbering": 1,
   "nav_menu": {},
   "number_sections": true,
   "sideBar": true,
   "skip_h1_title": false,
   "title_cell": "Table of Contents",
   "title_sidebar": "Contents",
   "toc_cell": false,
   "toc_position": {},
   "toc_section_display": true,
   "toc_window_display": false
  },
  "varInspector": {
   "cols": {
    "lenName": 16,
    "lenType": 16,
    "lenVar": 40
   },
   "kernels_config": {
    "python": {
     "delete_cmd_postfix": "",
     "delete_cmd_prefix": "del ",
     "library": "var_list.py",
     "varRefreshCmd": "print(var_dic_list())"
    },
    "r": {
     "delete_cmd_postfix": ") ",
     "delete_cmd_prefix": "rm(",
     "library": "var_list.r",
     "varRefreshCmd": "cat(var_dic_list()) "
    }
   },
   "types_to_exclude": [
    "module",
    "function",
    "builtin_function_or_method",
    "instance",
    "_Feature"
   ],
   "window_display": false
  }
 },
 "nbformat": 4,
 "nbformat_minor": 2
}
