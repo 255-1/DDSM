{
 "cells": [
  {
   "cell_type": "code",
   "execution_count": 1,
   "metadata": {},
   "outputs": [],
   "source": [
    "import tensorflow as tf\n",
    "from Preprocess import label_for_nn\n",
    "from alexnet_v2_model import model"
   ]
  },
  {
   "cell_type": "code",
   "execution_count": 2,
   "metadata": {},
   "outputs": [],
   "source": [
    "benign_path = '/home/user01/Desktop/DDSM/4_benign_Pleo_10_ROI_subpic'#input('良性子图路径')#\n",
    "cancer_path = '/home/user01/Desktop/DDSM/4_cancer_Pleo_10_ROI_subpic'#input('恶性子图路径')#\n",
    "saver_path = '/home/user01/Desktop/DDSM/model/AlexNet_v2'#input('模型保存路径')#\n",
    "size = 128\n",
    "tf.reset_default_graph()"
   ]
  },
  {
   "cell_type": "code",
   "execution_count": 3,
   "metadata": {},
   "outputs": [],
   "source": [
    "def get_trainsets_and_testsets(benign_path,cancer_path):\n",
    "    (train_x ,train_y),(test_x,test_y) = label_for_nn(benign_path,cancer_path,scale=0.2,kind='RGB')\n",
    "    train_x = train_x.reshape(train_x.shape[0],size,size,3).astype('float32')/255.0\n",
    "    test_x = test_x.reshape(test_x.shape[0],size,size,3).astype('float32')/255.0\n",
    "    return  test_x ,test_y"
   ]
  },
  {
   "cell_type": "code",
   "execution_count": 4,
   "metadata": {},
   "outputs": [],
   "source": [
    "def conv2d_P(x,W,s):\n",
    "    return tf.nn.conv2d(x,W,strides=[1,s,s,1],padding='SAME')"
   ]
  },
  {
   "cell_type": "code",
   "execution_count": 5,
   "metadata": {},
   "outputs": [],
   "source": [
    "def conv2d(x,W,s):\n",
    "    return tf.nn.conv2d(x,W,strides=[1,s,s,1],padding='VALID')"
   ]
  },
  {
   "cell_type": "code",
   "execution_count": 6,
   "metadata": {},
   "outputs": [],
   "source": [
    "def max_pooling2x2(x):\n",
    "    return tf.nn.max_pool(x,ksize=[1,3,3,1],strides=[1,2,2,1],padding='VALID')"
   ]
  },
  {
   "cell_type": "code",
   "execution_count": 7,
   "metadata": {},
   "outputs": [],
   "source": [
    "def cnn_test():\n",
    "    x = tf.placeholder(tf.float32, [None, 128, 128, 3])\n",
    "    y = tf.placeholder(tf.float32, [None, 2])\n",
    "    keep_prob = tf.placeholder(tf.float32)\n",
    "    y_pre = model(x,keep_prob)\n",
    "    cross_entropy = tf.reduce_mean(-tf.reduce_sum(y * tf.log(y_pre), reduction_indices=[1]))\n",
    "    y_pre_label = tf.argmax(y_pre,1)\n",
    "    y_label = tf.argmax(y,1)\n",
    "    a = tf.add(y_pre_label, 1)\n",
    "    b = tf.add(y_label, 3)\n",
    "    c = tf.multiply(a, b)\n",
    "    tp = tf.reduce_sum(tf.cast(tf.equal(c, 8), tf.float32))\n",
    "    fp = tf.reduce_sum(tf.cast(tf.equal(c, 6), tf.float32))\n",
    "    tn = tf.reduce_sum(tf.cast(tf.equal(c, 3), tf.float32))\n",
    "    fn = tf.reduce_sum(tf.cast(tf.equal(c, 4), tf.float32))\n",
    "    tpr = tp / (tp + fn)\n",
    "    tnr = tn / (tn + fp)\n",
    "    tf.summary.scalar('test_Sensitivity', tpr)\n",
    "    tf.summary.scalar('test_Specificity', tnr)\n",
    "    correct_l1 = tf.equal(y_pre_label, y_label)\n",
    "    accuracy = tf.reduce_mean(tf.cast(correct_l1, tf.float32))\n",
    "    tf.summary.scalar('test_loss', cross_entropy)\n",
    "    tf.summary.scalar('test_accuracy', accuracy)\n",
    "    merged_summary_op = tf.summary.merge_all()\n",
    "    saver = tf.train.Saver()\n",
    "    config = tf.ConfigProto()\n",
    "    config.gpu_options.allow_growth = True\n",
    "    with tf.Session(config=config) as sess:\n",
    "        writer = tf.summary.FileWriter(saver_path, sess.graph)\n",
    "        saver.restore(sess,saver_path+'/AlexNet_v2')\n",
    "        test_accuracy = 0\n",
    "        test_sensitivity = 0\n",
    "        test_specificity = 0\n",
    "        test_loss = 0\n",
    "        for n in range(0,100):\n",
    "            test_x, test_y = get_trainsets_and_testsets(benign_path,cancer_path)\n",
    "            acc,sen,spec,loss,summary = sess.run([accuracy,tpr,tnr,cross_entropy,merged_summary_op],feed_dict={x:test_x,y:test_y,keep_prob:1.0})\n",
    "            test_accuracy += acc\n",
    "            test_sensitivity += sen\n",
    "            test_specificity +=spec\n",
    "            test_loss += loss\n",
    "            print(\"{0:3d} accuracy:{1:>10.9f} loss:{2:>10.9f} specificity:{3:>10.9f} sensitivity:{4:>10.9f}\".format(n,acc,loss,sen,spec))\n",
    "            writer.add_summary(summary=summary, global_step=n)\n",
    "        print(\"accuracy:{0:<6.3f}% loss:{1:<6.3f}% specificity:{2:<6.3f}% sensitivity:{3:<6.3f}%\".format(test_accuracy,test_loss,test_sensitivity,test_specificity))"
   ]
  },
  {
   "cell_type": "code",
   "execution_count": 8,
   "metadata": {
    "scrolled": true
   },
   "outputs": [
    {
     "name": "stdout",
     "output_type": "stream",
     "text": [
      "INFO:tensorflow:Restoring parameters from /home/user01/Desktop/DDSM/model/AlexNet_v2/AlexNet_v2\n",
      "  0 accuracy:0.958333313 loss:0.212489977 specificity:0.899999976 sensitivity:1.000000000\n",
      "  1 accuracy:0.944444418 loss:0.178643256 specificity:0.884615362 sensitivity:1.000000000\n",
      "  2 accuracy:0.921568632 loss:0.201185420 specificity:0.884615362 sensitivity:0.959999979\n",
      "  3 accuracy:0.816326559 loss:0.358930320 specificity:0.740740716 sensitivity:0.909090936\n",
      "  4 accuracy:0.911111116 loss:0.275641859 specificity:0.826086938 sensitivity:1.000000000\n",
      "  5 accuracy:0.921568632 loss:0.252814561 specificity:0.869565189 sensitivity:0.964285731\n",
      "  6 accuracy:0.958333313 loss:0.184910938 specificity:0.899999976 sensitivity:1.000000000\n",
      "  7 accuracy:0.925925910 loss:0.197748408 specificity:0.884615362 sensitivity:0.964285731\n",
      "  8 accuracy:0.869565189 loss:0.353030652 specificity:0.769230783 sensitivity:1.000000000\n",
      "  9 accuracy:0.939393938 loss:0.264268816 specificity:0.857142866 sensitivity:1.000000000\n",
      " 10 accuracy:0.927272737 loss:0.232191652 specificity:0.875000000 sensitivity:0.967741907\n",
      " 11 accuracy:0.983606577 loss:0.127956167 specificity:0.967741907 sensitivity:1.000000000\n",
      " 12 accuracy:0.920000017 loss:0.243700892 specificity:0.863636374 sensitivity:0.964285731\n",
      " 13 accuracy:1.000000000 loss:0.088558950 specificity:1.000000000 sensitivity:1.000000000\n",
      " 14 accuracy:0.939999998 loss:0.229015142 specificity:0.892857134 sensitivity:1.000000000\n",
      " 15 accuracy:0.907407403 loss:0.211847693 specificity:0.833333313 sensitivity:0.966666639\n",
      " 16 accuracy:0.944444418 loss:0.139636859 specificity:0.879999995 sensitivity:1.000000000\n",
      " 17 accuracy:0.947368443 loss:0.192235127 specificity:0.888888896 sensitivity:1.000000000\n",
      " 18 accuracy:0.846153855 loss:0.454392076 specificity:0.750000000 sensitivity:1.000000000\n",
      " 19 accuracy:0.937500000 loss:0.194261611 specificity:0.888888896 sensitivity:1.000000000\n",
      " 20 accuracy:0.918367326 loss:0.278968543 specificity:0.884615362 sensitivity:0.956521749\n",
      " 21 accuracy:0.896551728 loss:0.248898715 specificity:0.800000012 sensitivity:1.000000000\n",
      " 22 accuracy:0.860000014 loss:0.394590080 specificity:0.750000000 sensitivity:1.000000000\n",
      " 23 accuracy:0.949152529 loss:0.189343870 specificity:0.892857134 sensitivity:1.000000000\n",
      " 24 accuracy:0.905660391 loss:0.165020108 specificity:0.879999995 sensitivity:0.928571403\n",
      " 25 accuracy:0.937500000 loss:0.209757105 specificity:0.857142866 sensitivity:1.000000000\n",
      " 26 accuracy:0.901960790 loss:0.190583169 specificity:0.879999995 sensitivity:0.923076928\n",
      " 27 accuracy:0.962264180 loss:0.157945827 specificity:0.964285731 sensitivity:0.959999979\n",
      " 28 accuracy:0.888888896 loss:0.359410822 specificity:0.800000012 sensitivity:0.965517223\n",
      " 29 accuracy:0.880596995 loss:0.295641810 specificity:0.708333313 sensitivity:0.976744175\n",
      " 30 accuracy:0.933333337 loss:0.197224140 specificity:0.857142866 sensitivity:1.000000000\n",
      " 31 accuracy:0.980769217 loss:0.140295953 specificity:0.952380955 sensitivity:1.000000000\n",
      " 32 accuracy:0.957446814 loss:0.150469154 specificity:0.888888896 sensitivity:1.000000000\n",
      " 33 accuracy:0.888888896 loss:0.265801072 specificity:0.759999990 sensitivity:1.000000000\n",
      " 34 accuracy:0.958333313 loss:0.196084738 specificity:0.894736826 sensitivity:1.000000000\n",
      " 35 accuracy:0.925925910 loss:0.216607675 specificity:0.826086938 sensitivity:1.000000000\n",
      " 36 accuracy:0.865384638 loss:0.305885851 specificity:0.774193525 sensitivity:1.000000000\n",
      " 37 accuracy:0.944444418 loss:0.183027014 specificity:0.931034505 sensitivity:0.959999979\n",
      " 38 accuracy:0.949152529 loss:0.155539751 specificity:0.923076928 sensitivity:0.969696999\n",
      " 39 accuracy:0.909090936 loss:0.262368768 specificity:0.800000012 sensitivity:1.000000000\n",
      " 40 accuracy:0.897959173 loss:0.337744385 specificity:0.800000012 sensitivity:1.000000000\n",
      " 41 accuracy:0.960784316 loss:0.145394728 specificity:0.928571403 sensitivity:1.000000000\n",
      " 42 accuracy:0.882352948 loss:0.236852527 specificity:0.807692289 sensitivity:0.959999979\n",
      " 43 accuracy:0.975609779 loss:0.108822659 specificity:0.956521749 sensitivity:1.000000000\n",
      " 44 accuracy:0.946428597 loss:0.207363769 specificity:0.903225780 sensitivity:1.000000000\n",
      " 45 accuracy:0.854545474 loss:0.402412921 specificity:0.724137902 sensitivity:1.000000000\n",
      " 46 accuracy:0.918367326 loss:0.222125962 specificity:0.879999995 sensitivity:0.958333313\n",
      " 47 accuracy:0.879310369 loss:0.310614198 specificity:0.785714269 sensitivity:0.966666639\n",
      " 48 accuracy:0.973684192 loss:0.125217110 specificity:1.000000000 sensitivity:0.941176474\n",
      " 49 accuracy:0.978723407 loss:0.160977319 specificity:1.000000000 sensitivity:0.964285731\n",
      " 50 accuracy:0.903225780 loss:0.241660938 specificity:0.828571439 sensitivity:1.000000000\n",
      " 51 accuracy:0.963636339 loss:0.145318985 specificity:0.928571403 sensitivity:1.000000000\n",
      " 52 accuracy:0.907407403 loss:0.238564387 specificity:0.866666675 sensitivity:0.958333313\n",
      " 53 accuracy:1.000000000 loss:0.140600711 specificity:1.000000000 sensitivity:1.000000000\n",
      " 54 accuracy:0.918367326 loss:0.286909610 specificity:0.777777791 sensitivity:1.000000000\n",
      " 55 accuracy:0.946428597 loss:0.187065825 specificity:0.925925910 sensitivity:0.965517223\n",
      " 56 accuracy:0.962962985 loss:0.119085118 specificity:1.000000000 sensitivity:0.925925910\n",
      " 57 accuracy:0.957446814 loss:0.175293133 specificity:0.952380955 sensitivity:0.961538434\n",
      " 58 accuracy:0.973684192 loss:0.167747691 specificity:0.923076928 sensitivity:1.000000000\n",
      " 59 accuracy:0.928571403 loss:0.240807772 specificity:0.866666675 sensitivity:1.000000000\n",
      " 60 accuracy:0.978723407 loss:0.155532151 specificity:0.952380955 sensitivity:1.000000000\n",
      " 61 accuracy:0.959183693 loss:0.140854895 specificity:0.928571403 sensitivity:1.000000000\n",
      " 62 accuracy:0.897959173 loss:0.237683862 specificity:0.833333313 sensitivity:0.959999979\n",
      " 63 accuracy:0.916666687 loss:0.281920046 specificity:0.789473712 sensitivity:1.000000000\n",
      " 64 accuracy:0.872727275 loss:0.386797965 specificity:0.759999990 sensitivity:0.966666639\n",
      " 65 accuracy:0.938775539 loss:0.245144412 specificity:0.892857134 sensitivity:1.000000000\n",
      " 66 accuracy:0.869565189 loss:0.440803021 specificity:0.772727251 sensitivity:0.958333313\n",
      " 67 accuracy:0.934782624 loss:0.186109215 specificity:0.863636374 sensitivity:1.000000000\n",
      " 68 accuracy:0.936170220 loss:0.224974230 specificity:0.925925910 sensitivity:0.949999988\n",
      " 69 accuracy:0.954545438 loss:0.157814354 specificity:0.888888896 sensitivity:1.000000000\n",
      " 70 accuracy:0.962962985 loss:0.157642975 specificity:0.916666687 sensitivity:1.000000000\n",
      " 71 accuracy:0.932203412 loss:0.278688788 specificity:0.891891897 sensitivity:1.000000000\n",
      " 72 accuracy:0.941176474 loss:0.178672701 specificity:0.879999995 sensitivity:1.000000000\n",
      " 73 accuracy:0.888888896 loss:0.260975510 specificity:0.782608688 sensitivity:1.000000000\n",
      " 74 accuracy:0.982456148 loss:0.130328968 specificity:0.962962985 sensitivity:1.000000000\n",
      " 75 accuracy:0.933333337 loss:0.201015666 specificity:0.888888896 sensitivity:0.962962985\n",
      " 76 accuracy:0.924528301 loss:0.199057147 specificity:0.875000000 sensitivity:0.965517223\n",
      " 77 accuracy:0.915254235 loss:0.186796188 specificity:0.833333313 sensitivity:1.000000000\n",
      " 78 accuracy:0.962962985 loss:0.198842734 specificity:0.925925910 sensitivity:1.000000000\n",
      " 79 accuracy:0.902438998 loss:0.351887763 specificity:0.826086938 sensitivity:1.000000000\n",
      " 80 accuracy:0.869565189 loss:0.290229380 specificity:0.818181813 sensitivity:0.916666687\n",
      " 81 accuracy:0.902438998 loss:0.245861292 specificity:0.809523821 sensitivity:1.000000000\n",
      " 82 accuracy:0.893617034 loss:0.349624783 specificity:0.814814806 sensitivity:1.000000000\n",
      " 83 accuracy:0.925000012 loss:0.140467837 specificity:0.888888896 sensitivity:0.954545438\n",
      " 84 accuracy:0.862745106 loss:0.314004004 specificity:0.750000000 sensitivity:0.962962985\n",
      " 85 accuracy:0.875000000 loss:0.310529947 specificity:0.777777791 sensitivity:0.965517223\n",
      " 86 accuracy:0.903846145 loss:0.242920816 specificity:0.833333313 sensitivity:0.964285731\n",
      " 87 accuracy:0.897959173 loss:0.329793036 specificity:0.851851881 sensitivity:0.954545438\n",
      " 88 accuracy:0.945454538 loss:0.186326683 specificity:0.863636374 sensitivity:1.000000000\n",
      " 89 accuracy:0.934426248 loss:0.162832037 specificity:0.903225780 sensitivity:0.966666639\n"
     ]
    },
    {
     "name": "stdout",
     "output_type": "stream",
     "text": [
      " 90 accuracy:0.893617034 loss:0.233058989 specificity:0.791666687 sensitivity:1.000000000\n",
      " 91 accuracy:0.913043499 loss:0.290818393 specificity:0.862068951 sensitivity:1.000000000\n",
      " 92 accuracy:0.944444418 loss:0.190126047 specificity:0.928571403 sensitivity:0.961538434\n",
      " 93 accuracy:0.964285731 loss:0.185487032 specificity:0.923076928 sensitivity:1.000000000\n",
      " 94 accuracy:0.934782624 loss:0.229712442 specificity:0.869565189 sensitivity:1.000000000\n",
      " 95 accuracy:0.932203412 loss:0.209715024 specificity:0.920000017 sensitivity:0.941176474\n",
      " 96 accuracy:0.933333337 loss:0.189172566 specificity:0.879999995 sensitivity:0.971428573\n",
      " 97 accuracy:0.961538434 loss:0.168790564 specificity:0.923076928 sensitivity:1.000000000\n",
      " 98 accuracy:0.936170220 loss:0.159723639 specificity:0.875000000 sensitivity:1.000000000\n",
      " 99 accuracy:0.937500000 loss:0.241928682 specificity:0.869565189 sensitivity:1.000000000\n",
      "accuracy:92.630% loss:22.630% specificity:86.782% sensitivity:98.261%\n"
     ]
    }
   ],
   "source": [
    "cnn_test()"
   ]
  },
  {
   "cell_type": "code",
   "execution_count": null,
   "metadata": {},
   "outputs": [],
   "source": []
  }
 ],
 "metadata": {
  "kernelspec": {
   "display_name": "Python 2",
   "language": "python",
   "name": "python2"
  },
  "language_info": {
   "codemirror_mode": {
    "name": "ipython",
    "version": 2
   },
   "file_extension": ".py",
   "mimetype": "text/x-python",
   "name": "python",
   "nbconvert_exporter": "python",
   "pygments_lexer": "ipython2",
   "version": "2.7.16"
  }
 },
 "nbformat": 4,
 "nbformat_minor": 2
}
