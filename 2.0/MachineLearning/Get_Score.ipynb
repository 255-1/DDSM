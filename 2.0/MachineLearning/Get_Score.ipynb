{
 "cells": [
  {
   "cell_type": "markdown",
   "metadata": {
    "ExecuteTime": {
     "end_time": "2019-11-23T09:39:32.585637Z",
     "start_time": "2019-11-23T09:39:32.578682Z"
    }
   },
   "source": [
    "## 获取不同占比下ROI的fisher系数"
   ]
  },
  {
   "cell_type": "code",
   "execution_count": 1,
   "metadata": {
    "ExecuteTime": {
     "end_time": "2019-11-29T04:44:52.627352Z",
     "start_time": "2019-11-29T04:44:37.363700Z"
    }
   },
   "outputs": [],
   "source": [
    "import pandas as pd\n",
    "import numpy as np\n",
    "import matplotlib.pyplot as plt\n",
    "from sklearn.preprocessing import StandardScaler\n",
    "import os"
   ]
  },
  {
   "cell_type": "markdown",
   "metadata": {},
   "source": [
    "$F=\\frac{S_b}{S_w}=\\frac{\\sum_{i=1}^{n}(\\mu_{iA}-\\mu_{iB})^2}{\\sum_{i=1}^n(\\sigma_{iA}^2+\\sigma_{iB}^2)}$\n",
    "1. 对特征进行标准化\n",
    "2. 根据标签获取一组下不同类的数据\n",
    "3. 用2个DataFrame分别记录，一组下不同类的每一个特征的均值和方差\n",
    "4. 根据公式得到该组下的统计值"
   ]
  },
  {
   "cell_type": "code",
   "execution_count": 50,
   "metadata": {
    "ExecuteTime": {
     "end_time": "2019-11-29T05:05:07.103132Z",
     "start_time": "2019-11-29T05:05:07.095152Z"
    }
   },
   "outputs": [],
   "source": [
    "def get_score(file):\n",
    "    data=pd.read_excel(file).iloc[:,1:]##去掉第一列的文件名\n",
    "    X=data.iloc[:,:-1]\n",
    "    y=data.iloc[:,-1]\n",
    "    \n",
    "    ##标准化\n",
    "    scaler=StandardScaler()\n",
    "    X=scaler.fit_transform(X.astype(np.float64))\n",
    "    X=pd.DataFrame(X)\n",
    "    \n",
    "    ##得到标准化后的样本\n",
    "    scaler_data=pd.concat([X,y],axis=1)\n",
    "    \n",
    "    ##根据样本标准，得到不同的类别\n",
    "    df=[scaler_data.loc[scaler_data[\"分类\"]==i] for i in np.arange(2)]\n",
    "    \n",
    "    ##获得每一类中每个特征的均值和方差\n",
    "    mean=df[0].apply(lambda x:np.mean(x))\n",
    "    var=df[1].apply(lambda x:np.var(x))\n",
    "    \n",
    "   #根据公式，得出统计值\n",
    "    s_b=np.sum((mean[0]-mean[1])**2)\n",
    "    s_w=np.sum(var[0]+var[1])\n",
    "\n",
    "    fisher=s_b/s_w\n",
    "\n",
    "    return fisher"
   ]
  },
  {
   "cell_type": "markdown",
   "metadata": {},
   "source": [
    "## 获得统计值"
   ]
  },
  {
   "cell_type": "code",
   "execution_count": 47,
   "metadata": {
    "ExecuteTime": {
     "end_time": "2019-11-29T05:04:44.842978Z",
     "start_time": "2019-11-29T05:04:44.758175Z"
    }
   },
   "outputs": [
    {
     "name": "stdout",
     "output_type": "stream",
     "text": [
      "result_01_25.xls:0.15346994868182318\n",
      "result_01_50.xls:0.004504495163668069\n",
      "result_01_75.xls:0.05131827256409662\n"
     ]
    }
   ],
   "source": [
    "os.chdir(\"C:/Users/lenovo/Desktop/branch/fisher\")##要求文件夹下只有3个特征文件\n",
    "files=os.listdir()\n",
    "scores=list()\n",
    "\n",
    "for f in files:\n",
    "    result=get_score(f)\n",
    "    scores.append(result)\n",
    "    print(f+\":\"+str(result))"
   ]
  },
  {
   "cell_type": "markdown",
   "metadata": {},
   "source": [
    "## 结果可视化"
   ]
  },
  {
   "cell_type": "code",
   "execution_count": 49,
   "metadata": {
    "ExecuteTime": {
     "end_time": "2019-11-29T05:04:54.563351Z",
     "start_time": "2019-11-29T05:04:54.402767Z"
    }
   },
   "outputs": [
    {
     "data": {
      "image/png": "[encoded data removed]",
      "text/plain": [
       "<Figure size 864x576 with 1 Axes>"
      ]
     },
     "metadata": {},
     "output_type": "display_data"
    }
   ],
   "source": [
    "%matplotlib inline\n",
    "with plt.style.context(\"ggplot\"):\n",
    "    fig,ax=plt.subplots(figsize=(12,8))\n",
    "    \n",
    "    x=np.arange(3)\n",
    "    groups=[\"25\",\"50\",\"75\"]\n",
    "    \n",
    "    bars=list()\n",
    "    for i in range(3):\n",
    "        bar=ax.bar(x[i],scores[i],label=groups[i])\n",
    "        bars.append(bar)\n",
    "\n",
    "    \n",
    "    ax.set_title(\"Fisher\",fontsize=20)\n",
    "    ax.legend()\n",
    "    plt.xticks(range(3),groups)\n",
    "    \n",
    "    for bar in bars: \n",
    "        for b in bar:\n",
    "            height = b.get_height()\n",
    "            height = float((\"%.3f\" % height))\n",
    "            ax.text(b.get_x() + b.get_width() / 2, height*1.015, str(height), ha=\"center\", va=\"bottom\") \n",
    "    "
   ]
  }
 ],
 "metadata": {
  "kernelspec": {
   "display_name": "Python 3",
   "language": "python",
   "name": "python3"
  },
  "toc": {
   "base_numbering": 1,
   "nav_menu": {},
   "number_sections": true,
   "sideBar": true,
   "skip_h1_title": false,
   "title_cell": "Table of Contents",
   "title_sidebar": "Contents",
   "toc_cell": false,
   "toc_position": {},
   "toc_section_display": true,
   "toc_window_display": false
  },
  "varInspector": {
   "cols": {
    "lenName": 16,
    "lenType": 16,
    "lenVar": 40
   },
   "kernels_config": {
    "python": {
     "delete_cmd_postfix": "",
     "delete_cmd_prefix": "del ",
     "library": "var_list.py",
     "varRefreshCmd": "print(var_dic_list())"
    },
    "r": {
     "delete_cmd_postfix": ") ",
     "delete_cmd_prefix": "rm(",
     "library": "var_list.r",
     "varRefreshCmd": "cat(var_dic_list()) "
    }
   },
   "types_to_exclude": [
    "module",
    "function",
    "builtin_function_or_method",
    "instance",
    "_Feature"
   ],
   "window_display": false
  }
 },
 "nbformat": 4,
 "nbformat_minor": 2
}
